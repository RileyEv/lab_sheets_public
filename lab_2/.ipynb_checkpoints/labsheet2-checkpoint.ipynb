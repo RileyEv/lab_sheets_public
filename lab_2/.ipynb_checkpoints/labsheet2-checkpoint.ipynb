{
 "cells": [
  {
   "cell_type": "markdown",
   "metadata": {},
   "source": [
    "# Lab 2: Introduction to Python and Jupyter Notebooks, Part II\n",
    "\n",
    "In this lab session we will continue our introduction to Python/NumPy/Matplotlib. We will see how to perform some basic operation on vectors, matrices, and a special type of matrix, that is *images*. \n",
    "\n",
    "As usual, before we start, we need to import the needed libraries and set some useful plotting parameters. We can do this by running the code cell below."
   ]
  },
  {
   "cell_type": "code",
   "execution_count": 1,
   "metadata": {},
   "outputs": [],
   "source": [
    "from __future__ import print_function # to avoid issues between Python 2 and 3 printing\n",
    "\n",
    "import numpy as np\n",
    "from scipy import stats\n",
    "from skimage import data, io, color, transform, exposure\n",
    "import matplotlib.pyplot as plt\n",
    "from mpl_toolkits.mplot3d import Axes3D\n",
    "\n",
    "%matplotlib inline\n",
    "# notebook\n",
    "import matplotlib.pylab as pylab\n",
    "pylab.rcParams['figure.figsize'] = (32.0, 24.0)\n",
    "pylab.rcParams['font.size'] = 24"
   ]
  },
  {
   "cell_type": "markdown",
   "metadata": {},
   "source": [
    "You'll notice the line `%matplotlib inline` looks very different to all other python code so far. This is a special command just for jupyter notebooks which will plot the figures inline and doesn't require a call to `plt.show()`."
   ]
  },
  {
   "cell_type": "markdown",
   "metadata": {},
   "source": [
    "## 1. Functions \n",
    "\n",
    "Let's start creating a function called `test_normal(n, mean_dist, var_dist)` that generates a *random sequence* of `n` numbers from the normal distribution $\\mathcal{N}(\\mu, \\sigma^2)$ and returns the *mean* and *var* of the *sequence*. \n",
    "\n",
    "### Default Value Parameters\n",
    "Python allows you to have default values for parameters if you want them to be optional. For example if we define the function as `test_normal(n=100, mean_dist=5.0, var_dist=2.0)` then we can actually call the function using `test_normal()` and pass no parameters. We could also call the function using `test_normal(var_dist=10, mean_dist=0.5)`. You can find more info [here](https://www.programiz.com/python-programming/function-argument).\n",
    "\n",
    "Write the function so that when no parameters are passed it generates a sequence of 10000 elements from the distribution $\\mathcal{N}(0, 1)$. \n",
    "\n",
    "Call the function multiple times with no arguments and observe the output.\n",
    "\n",
    "Hint: you can use the function `numpy.random.randn` to generate a random sequence from the normal distribution."
   ]
  },
  {
   "cell_type": "code",
   "execution_count": 3,
   "metadata": {},
   "outputs": [
    {
     "name": "stdout",
     "output_type": "stream",
     "text": [
      "[ 0.31311037 -0.64794072 -0.38597847 ...  0.93416737  0.33887732\n",
      " -1.60186449]\n"
     ]
    }
   ],
   "source": [
    "# write your code here\n",
    "\n",
    "def test_normal(n=10000, mean_dist=0.0, var_dist=1.0):\n",
    "    return np.sqrt(var_dist) * np.random.randn(n) + mean_dist\n",
    "\n",
    "print(test_normal())\n"
   ]
  },
  {
   "cell_type": "markdown",
   "metadata": {},
   "source": [
    "### Play now a little with the parameters of the function. \n",
    "\n",
    "- What do you observe when you create a sequence with a very small of elements? \n",
    "- What happens when the sequence contains a very large number of elements instead?"
   ]
  },
  {
   "cell_type": "markdown",
   "metadata": {},
   "source": [
    "### Answer\n",
    "\n",
    "Write your answer here\n",
    "\n",
    "\n",
    "- With a small n the mean and variance of the sequence generated are not as accurate (0,1)\n",
    "- With a large n the mean and variance get closer to the expected values\n"
   ]
  },
  {
   "cell_type": "markdown",
   "metadata": {},
   "source": [
    "## 2. 2D Normal distribution\n",
    "\n",
    "Given the following 2D normal distribution $\\mathcal{N}(\\mathbf{\\mu},\\mathbf{C})$ with:\n",
    "$$\n",
    "\\mathbf{\\mu}=\\left [ \\begin{array}{c}2\\\\2\\end{array}\\right ] \\;\\;\\;\\;\\;\n",
    "\\mathbf{C}=\\left [ \\begin{array}{cc}4& 2\\\\2& 6\\end{array}\\right ] \n",
    "$$\n",
    "\n",
    "Estimate the probability that the following vectors:\n",
    "\n",
    "- $x_1 = (1, 2)$\n",
    "- $x_2 = (2,8)$\n",
    "- $x_3 = (5,4)$ \n",
    "\n",
    "are sampled from the distribution. Hint: use NumPys function `stats.multivariate_normal.pdf`."
   ]
  },
  {
   "cell_type": "code",
   "execution_count": 6,
   "metadata": {},
   "outputs": [
    {
     "data": {
      "text/plain": [
       "array([0.03063098, 0.0009724 , 0.01126851])"
      ]
     },
     "execution_count": 6,
     "metadata": {},
     "output_type": "execute_result"
    }
   ],
   "source": [
    "# write your code here\n",
    "x = np.array([[1,2],[2,8],[5,4]])\n",
    "mu = np.array([2,2])\n",
    "c = np.array([[4,2],[2,6]])\n",
    "\n",
    "stats.multivariate_normal.pdf(x, mean=mu, cov=c)\n",
    "\n",
    "\n",
    "\n"
   ]
  },
  {
   "cell_type": "markdown",
   "metadata": {},
   "source": [
    "### Observe the obtained values. Which vector has the highest likelihood? Why?"
   ]
  },
  {
   "cell_type": "markdown",
   "metadata": {},
   "source": [
    "### Answer\n",
    "\n",
    "x1"
   ]
  },
  {
   "cell_type": "markdown",
   "metadata": {},
   "source": [
    "## 3. Random vectors\n",
    "\n",
    "Generate a sequence of 100 random vectors from the 2D distribution above using the function `stats.multivariate_normal.rvs`."
   ]
  },
  {
   "cell_type": "code",
   "execution_count": 11,
   "metadata": {},
   "outputs": [
    {
     "name": "stdout",
     "output_type": "stream",
     "text": [
      "[[ 4.18807149e+00 -2.72467150e+00]\n",
      " [ 1.00994794e+00 -8.36510498e-01]\n",
      " [ 5.84372683e+00  4.82740647e+00]\n",
      " [-4.04808500e-01  5.35537675e-01]\n",
      " [ 2.76210073e+00  1.50282747e+00]\n",
      " [ 1.14948589e+00 -7.82537698e-01]\n",
      " [ 4.02585175e+00  5.60572708e+00]\n",
      " [ 4.73089479e+00  3.32706441e+00]\n",
      " [ 3.03690405e+00 -1.02184545e+00]\n",
      " [ 2.63051122e-01  2.43099574e+00]\n",
      " [ 1.94323379e+00  5.33779030e+00]\n",
      " [ 3.12500089e-01  6.83367882e-01]\n",
      " [ 6.56697197e+00  2.75417496e+00]\n",
      " [ 1.58551982e+00 -2.61000680e+00]\n",
      " [ 6.22809924e+00  3.20284192e+00]\n",
      " [ 2.86143780e+00  2.92910363e+00]\n",
      " [ 6.99417396e+00  7.89868066e+00]\n",
      " [ 1.49149281e+00  2.66810002e+00]\n",
      " [-1.30594026e-01 -2.74673059e-01]\n",
      " [ 3.78207202e+00  4.60591780e+00]\n",
      " [ 1.58071221e+00  4.31868969e-01]\n",
      " [ 3.42157625e+00  4.42260113e+00]\n",
      " [ 2.16387438e+00  1.12193018e+00]\n",
      " [-2.10271157e-01  4.95404630e-01]\n",
      " [ 1.90979093e+00  2.57615140e+00]\n",
      " [ 5.13848965e+00  4.67064178e+00]\n",
      " [ 6.59226573e-01  1.40930093e+00]\n",
      " [ 4.99914915e+00  8.96176506e-01]\n",
      " [ 3.31392125e+00  2.40562047e+00]\n",
      " [ 2.87922909e+00  1.36046655e+00]\n",
      " [ 2.35883797e+00  4.59540195e+00]\n",
      " [ 4.54983238e+00  3.80043562e+00]\n",
      " [ 3.47862739e-01  3.78256589e+00]\n",
      " [-1.34575380e-01  4.50265048e+00]\n",
      " [ 1.96393392e-01 -2.48775917e+00]\n",
      " [ 1.75606339e+00  4.69589136e+00]\n",
      " [ 3.70737809e+00  3.97356619e+00]\n",
      " [ 4.58475388e+00  5.39676609e+00]\n",
      " [ 3.95005200e+00  7.53713633e+00]\n",
      " [ 1.77002199e+00  2.32604660e+00]\n",
      " [ 3.72934264e+00 -3.91503505e-01]\n",
      " [-1.72079700e+00  3.06788921e+00]\n",
      " [ 9.11599496e-01  5.13550233e-01]\n",
      " [ 6.08051224e+00  6.89444602e-01]\n",
      " [ 3.00195347e+00  1.97752726e+00]\n",
      " [ 2.31188371e+00 -8.36241750e-03]\n",
      " [ 5.78078505e+00  3.68313866e+00]\n",
      " [ 4.60454463e+00  6.10345674e-01]\n",
      " [ 4.83458108e-01  1.61976895e+00]\n",
      " [ 2.56123730e+00  5.84593962e+00]\n",
      " [ 1.42874096e+00  9.76451051e+00]\n",
      " [ 2.51446737e+00  4.27445192e+00]\n",
      " [ 3.82404089e+00  3.91705168e+00]\n",
      " [ 2.90219968e+00  2.62515228e+00]\n",
      " [ 2.13440379e+00  2.17885132e+00]\n",
      " [ 2.37402295e+00  1.21564189e+00]\n",
      " [-4.11080630e+00 -5.60432080e-01]\n",
      " [ 7.58553317e+00  5.81448832e+00]\n",
      " [ 3.97890244e+00  5.75235237e+00]\n",
      " [-2.01943939e+00 -1.99301492e+00]\n",
      " [ 4.79485117e+00  2.18884080e+00]\n",
      " [ 2.56203982e+00  5.91168695e+00]\n",
      " [ 3.34438230e+00  4.07310202e-01]\n",
      " [ 2.02975914e+00  2.46385147e+00]\n",
      " [ 4.69623590e+00 -3.49285058e-01]\n",
      " [ 2.66182731e+00  3.66195685e+00]\n",
      " [-6.07646270e-01  1.03688032e+00]\n",
      " [ 2.77475636e+00  9.76068599e-01]\n",
      " [ 5.29562103e+00  3.02082194e+00]\n",
      " [-1.30648444e-01 -2.72248714e+00]\n",
      " [ 3.12137386e+00  1.32980048e+00]\n",
      " [-7.61981422e-01  7.06527163e-01]\n",
      " [ 3.08586417e+00  5.59188105e+00]\n",
      " [ 2.40927647e+00  1.99158965e+00]\n",
      " [ 2.24774971e+00  4.55259358e+00]\n",
      " [ 1.44645650e+00 -1.80683201e+00]\n",
      " [ 2.02850756e+00  4.44285822e+00]\n",
      " [ 5.16405745e-01  2.52123791e+00]\n",
      " [ 1.36365673e+00 -1.48942813e+00]\n",
      " [ 4.02949333e+00  2.14729504e+00]\n",
      " [ 2.91139196e+00  4.92843489e+00]\n",
      " [ 4.45093771e+00  4.63183747e-01]\n",
      " [ 2.62911657e+00 -3.34778491e-02]\n",
      " [ 1.62298933e+00  1.79680485e+00]\n",
      " [-1.22942249e-01 -4.04815917e-01]\n",
      " [-8.50509272e-02  6.46114768e-01]\n",
      " [-3.24365124e+00 -5.88833572e+00]\n",
      " [ 3.18467294e+00  4.83391306e+00]\n",
      " [ 8.91739499e-01  6.31334433e+00]\n",
      " [-1.16571409e+00 -1.60241763e+00]\n",
      " [ 7.63743539e-01  5.24882915e-01]\n",
      " [ 2.23876805e+00  4.72181392e+00]\n",
      " [ 4.16502454e-02  2.16049851e+00]\n",
      " [ 3.69448364e+00  3.66755120e+00]\n",
      " [ 4.83544746e+00  4.79697581e+00]\n",
      " [ 6.63006584e-01  3.35128525e+00]\n",
      " [ 4.00146659e+00  9.64196108e-01]\n",
      " [ 2.58653989e+00  3.92650230e+00]\n",
      " [ 2.17970836e+00  1.48103814e+00]\n",
      " [ 3.35597921e+00  3.75011624e+00]]\n"
     ]
    }
   ],
   "source": [
    "# write your code here\n",
    "\n",
    "s = stats.multivariate_normal.rvs(mu, c, 100)\n",
    "print(s)\n",
    "\n"
   ]
  },
  {
   "cell_type": "markdown",
   "metadata": {},
   "source": [
    "Create now a scatter plot of the sequence using the function `plt.scatter`. Compute the mean and covariance for the sequence using the functions `np.mean` (consider the `axis` parameter) and `np.cov` (consider the `rowvar` parameter)."
   ]
  },
  {
   "cell_type": "code",
   "execution_count": 12,
   "metadata": {},
   "outputs": [
    {
     "ename": "TypeError",
     "evalue": "scatter() missing 1 required positional argument: 'y'",
     "output_type": "error",
     "traceback": [
      "\u001b[0;31m---------------------------------------------------------------------------\u001b[0m",
      "\u001b[0;31mTypeError\u001b[0m                                 Traceback (most recent call last)",
      "\u001b[0;32m<ipython-input-12-9cf9e64704d2>\u001b[0m in \u001b[0;36m<module>\u001b[0;34m\u001b[0m\n\u001b[1;32m      1\u001b[0m \u001b[0;31m# write your code here\u001b[0m\u001b[0;34m\u001b[0m\u001b[0;34m\u001b[0m\u001b[0;34m\u001b[0m\u001b[0m\n\u001b[0;32m----> 2\u001b[0;31m \u001b[0mplt\u001b[0m\u001b[0;34m.\u001b[0m\u001b[0mscatter\u001b[0m\u001b[0;34m(\u001b[0m\u001b[0ms\u001b[0m\u001b[0;34m)\u001b[0m\u001b[0;34m\u001b[0m\u001b[0;34m\u001b[0m\u001b[0m\n\u001b[0m",
      "\u001b[0;31mTypeError\u001b[0m: scatter() missing 1 required positional argument: 'y'"
     ]
    }
   ],
   "source": [
    "# write your code here\n",
    "plt.scatter(s[:,0], s[:,1])\n"
   ]
  },
  {
   "cell_type": "markdown",
   "metadata": {},
   "source": [
    "Let's increase now the length of the sequence to 4000. Plot the new data and compute the new mean and covariance."
   ]
  },
  {
   "cell_type": "code",
   "execution_count": 18,
   "metadata": {},
   "outputs": [],
   "source": [
    "# put your code here\n",
    "\n"
   ]
  },
  {
   "cell_type": "markdown",
   "metadata": {},
   "source": [
    "### Compare the two scatter plots above. What do you observe?"
   ]
  },
  {
   "cell_type": "markdown",
   "metadata": {},
   "source": [
    "### Answer\n",
    "\n",
    "Write your answer here"
   ]
  },
  {
   "cell_type": "markdown",
   "metadata": {},
   "source": [
    "## 4. Matrix Inverse\n",
    "\n",
    "Create a function that takes a 2x2 matrix and returns its inverse.\n",
    "\n",
    "Recall that the inverse of a 2x2 matrix\n",
    "$$\n",
    "\\mathbf{A}=\\left [ \\begin{array}{cc}\n",
    "    a & b \\\\\n",
    "    c & d\\end{array}\\right ]\n",
    "$$\n",
    "\n",
    "</br></br>\n",
    "<center>is</center>\n",
    "\n",
    "$$\n",
    "\\mathbf{A}^{-1} = \n",
    "    \\frac{1}{\\det(\\mathbf{A})} \\left [ \\begin{array}{cc}\n",
    "        d & -b \\\\\n",
    "        -c & a\\end{array}\\right ]\n",
    "$$"
   ]
  },
  {
   "cell_type": "markdown",
   "metadata": {},
   "source": [
    "### Before coding, answer the following question:\n",
    "\n",
    "Given the definition above, are there any conditions you need to check before calculating the inverse of a matrix in your function?"
   ]
  },
  {
   "cell_type": "markdown",
   "metadata": {},
   "source": [
    "### Answer\n",
    "\n",
    "Write your answer here"
   ]
  },
  {
   "cell_type": "code",
   "execution_count": 19,
   "metadata": {},
   "outputs": [],
   "source": [
    "# write your code here\n",
    "\n"
   ]
  },
  {
   "cell_type": "markdown",
   "metadata": {},
   "source": [
    "Call now the function passing different random 2x2 matrices.\n",
    "\n",
    "Try also your function with a singular 2x2 matrix and a random 2x3 matrix and make sure your code does not crash!"
   ]
  },
  {
   "cell_type": "code",
   "execution_count": 20,
   "metadata": {},
   "outputs": [],
   "source": [
    "# write your code here\n",
    "\n"
   ]
  },
  {
   "cell_type": "markdown",
   "metadata": {},
   "source": [
    "Obviously, there was already a function in NumPy to calculate the inverse of a matrix, which is the function `np.linalg.inv`. \n",
    "\n",
    "Compare now the results obtained with your function with those obtained with the NumPy one. Note that if you coded the function right, you should get the exact same results!"
   ]
  },
  {
   "cell_type": "code",
   "execution_count": 21,
   "metadata": {},
   "outputs": [],
   "source": [
    "# write your code here\n",
    "\n"
   ]
  },
  {
   "cell_type": "markdown",
   "metadata": {},
   "source": [
    "## 5. Loading images with Python\n",
    "\n",
    "We will use the [scikit-image](https://scikit-image.org/) library to load, show and perform some operation on images. \n",
    "\n",
    "We have already imported all the needed functions in the first code cell of this notebook.\n",
    "\n",
    "Let's now load the image `flower.png` using the function `io.imread` and let's display the image using the function `io.imshow`."
   ]
  },
  {
   "cell_type": "code",
   "execution_count": 22,
   "metadata": {},
   "outputs": [],
   "source": [
    "# write your code here\n",
    "\n"
   ]
  },
  {
   "cell_type": "markdown",
   "metadata": {},
   "source": [
    "Remember that images can be interpreted as *matrices*. In fact, the scikit-image library stores images as NumPy arrays. \n",
    "\n",
    "Such arrays are either 2D, for grey scale images, or 3D, for colour images.\n",
    "\n",
    "In the grey scale case, the bidimensional array simply stores the intensity value of each pixel. Usually values are in the range [0, 255] (8 bit images), but other ranges are also possible, such as [0, 1].\n",
    "\n",
    "In the colour case, the third dimension represents one of the three `[R, G, B]` colour channels. Each channel can be seen as a grey scale image which stores the intensity value of the corresponding colour. By combining the three colours we can obtain all the [other colours](https://en.wikipedia.org/wiki/RGB_color_model).\n",
    "\n",
    "#### Note:\n",
    "* A number of different colour models exist, such as CMY or HSL. Depending on the used colour model, pixels in matrices are organised in different ways. Here we assume we are dealing only with the RGB colour model, which is the predominant model for monitors, and thus assume our matrices are in the form seen above. You can learn more about this topic [here](https://en.wikipedia.org/wiki/Color_space) and [here](https://en.wikipedia.org/wiki/Color_model#CMYK_color_model)\n",
    "\n",
    "We can check the size/shape of an image/matrix by using the property `shape` of NumPy's arrays. "
   ]
  },
  {
   "cell_type": "code",
   "execution_count": null,
   "metadata": {},
   "outputs": [],
   "source": [
    "print('Image shape: ', im_flower.shape)"
   ]
  },
  {
   "cell_type": "markdown",
   "metadata": {},
   "source": [
    "In our case, the flower image has resolution 1440x900. Note how rows represent the height of the image, while columns represent its width. Since our image is in colours, we have a 3D array."
   ]
  },
  {
   "cell_type": "markdown",
   "metadata": {},
   "source": [
    "## 6. Image manipulation\n",
    "\n",
    "Let's convert our colour image to a grey scale one using the function `color.rgb2gray`. Let's then change the size of the image to half its current size using the function `transform.resize`.\n",
    "\n",
    "Print both images' size to check your operation was perfomed correctly."
   ]
  },
  {
   "cell_type": "code",
   "execution_count": null,
   "metadata": {},
   "outputs": [],
   "source": [
    "# write your code here\n",
    "\n"
   ]
  },
  {
   "cell_type": "markdown",
   "metadata": {},
   "source": [
    "## 7. Image interpretation\n",
    "\n",
    "Calculate the histogram of your grey scale image's pixel values using the function `exposure.histogram`.\n",
    "\n",
    "You can use the following function `imhist` to plot the histogram."
   ]
  },
  {
   "cell_type": "code",
   "execution_count": null,
   "metadata": {},
   "outputs": [],
   "source": [
    "def imhist(img_hist):\n",
    "    fig = plt.figure()\n",
    "    ax = fig.add_subplot( 111 )\n",
    "    ax.bar( range(256), img_hist[0], width=1 )\n",
    "    ax.set_xlim(0, 256)\n",
    "    plt.show()"
   ]
  },
  {
   "cell_type": "code",
   "execution_count": null,
   "metadata": {},
   "outputs": [],
   "source": [
    "# write your code here\n",
    "\n"
   ]
  },
  {
   "cell_type": "markdown",
   "metadata": {},
   "source": [
    "### What can we tell about the image by looking at the histogram? \n",
    "\n",
    "Recall we plotted the histogram of the grey scale image, and recall that our pixels have values ranging from 0 (black) to 255 (white)."
   ]
  },
  {
   "cell_type": "markdown",
   "metadata": {},
   "source": [
    "### Answer\n",
    "\n",
    "Write your answer here"
   ]
  },
  {
   "cell_type": "markdown",
   "metadata": {},
   "source": [
    "## 8. Image Interpretation  II\n",
    "\n",
    "Use the function `exposure.equalize_hist` to [equalize](https://en.wikipedia.org/wiki/Histogram_equalization) the image. Show the image and its corresponding histogram."
   ]
  },
  {
   "cell_type": "code",
   "execution_count": null,
   "metadata": {},
   "outputs": [],
   "source": [
    "# write your code here\n",
    "\n"
   ]
  },
  {
   "cell_type": "markdown",
   "metadata": {},
   "source": [
    "### Observe the resulting image and its histogram. What can we tell about the equalised image? "
   ]
  },
  {
   "cell_type": "markdown",
   "metadata": {
    "collapsed": true
   },
   "source": [
    "### Answer\n",
    "\n",
    "Write your answer here"
   ]
  }
 ],
 "metadata": {
  "kernelspec": {
   "display_name": "Python 3",
   "language": "python",
   "name": "python3"
  },
  "language_info": {
   "codemirror_mode": {
    "name": "ipython",
    "version": 3
   },
   "file_extension": ".py",
   "mimetype": "text/x-python",
   "name": "python",
   "nbconvert_exporter": "python",
   "pygments_lexer": "ipython3",
   "version": "3.7.1"
  }
 },
 "nbformat": 4,
 "nbformat_minor": 1
}
